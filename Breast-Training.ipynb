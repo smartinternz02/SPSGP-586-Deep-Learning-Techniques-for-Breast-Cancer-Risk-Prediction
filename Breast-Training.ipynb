{
 "cells": [
  {
   "cell_type": "code",
   "execution_count": 1,
   "metadata": {},
   "outputs": [],
   "source": [
    "from keras.preprocessing.image import ImageDataGenerator\n",
    "from keras.models import Sequential\n",
    "from keras.layers import Dense\n",
    "from keras.layers import Convolution2D\n",
    "from keras.layers import MaxPooling2D\n",
    "from keras.layers import Flatten"
   ]
  },
  {
   "cell_type": "code",
   "execution_count": 2,
   "metadata": {},
   "outputs": [],
   "source": [
    "train_datagen = ImageDataGenerator(rescale = 1./255, shear_range = 0.2, zoom_range = 0.2, horizontal_flip = True)\n",
    "test_datagen = ImageDataGenerator(rescale = 1./255)"
   ]
  },
  {
   "cell_type": "code",
   "execution_count": 5,
   "metadata": {},
   "outputs": [
    {
     "name": "stdout",
     "output_type": "stream",
     "text": [
      "Found 11055 images belonging to 2 classes.\n",
      "Found 2022 images belonging to 2 classes.\n"
     ]
    }
   ],
   "source": [
    "x_train = train_datagen.flow_from_directory(r\"C:\\Users\\GURU\\Desktop\\data\\dset\\train\",target_size = (32,32), batch_size = batch_size, class_mode = \"binary\")\n",
    "x_test = test_datagen.flow_from_directory(r\"C:\\Users\\GURU\\Desktop\\data\\dset\\test\",target_size = (32,32), batch_size = batch_size, class_mode = \"binary\")"
   ]
  },
  {
   "cell_type": "code",
   "execution_count": 6,
   "metadata": {},
   "outputs": [
    {
     "data": {
      "text/plain": [
       "{'benign': 0, 'malignant': 1}"
      ]
     },
     "execution_count": 6,
     "metadata": {},
     "output_type": "execute_result"
    }
   ],
   "source": [
    "x_train.class_indices"
   ]
  },
  {
   "cell_type": "code",
   "execution_count": 7,
   "metadata": {},
   "outputs": [],
   "source": [
    "batch_size = 16"
   ]
  },
  {
   "cell_type": "code",
   "execution_count": 8,
   "metadata": {},
   "outputs": [],
   "source": [
    "model = Sequential()"
   ]
  },
  {
   "cell_type": "code",
   "execution_count": 9,
   "metadata": {},
   "outputs": [],
   "source": [
    "model.add(Convolution2D(32,(3,3),input_shape = (32,32,3),padding = 'same',activation = 'relu')) "
   ]
  },
  {
   "cell_type": "code",
   "execution_count": 10,
   "metadata": {},
   "outputs": [],
   "source": [
    "model.add(MaxPooling2D(pool_size = (2,2)))"
   ]
  },
  {
   "cell_type": "code",
   "execution_count": 11,
   "metadata": {},
   "outputs": [],
   "source": [
    "model.add(Convolution2D(64,(3,3),padding = 'same',activation = 'relu')) "
   ]
  },
  {
   "cell_type": "code",
   "execution_count": 12,
   "metadata": {},
   "outputs": [],
   "source": [
    "model.add(MaxPooling2D(pool_size = (2,2)))"
   ]
  },
  {
   "cell_type": "code",
   "execution_count": 13,
   "metadata": {},
   "outputs": [],
   "source": [
    "model.add(Convolution2D(128,(3,3),padding = 'same',activation = 'relu')) \n",
    "model.add(MaxPooling2D(pool_size = (2,2)))"
   ]
  },
  {
   "cell_type": "code",
   "execution_count": 14,
   "metadata": {},
   "outputs": [],
   "source": [
    "model.add(Flatten())"
   ]
  },
  {
   "cell_type": "code",
   "execution_count": 15,
   "metadata": {},
   "outputs": [],
   "source": [
    "model.add(Dense(units = 128,activation = \"relu\"))"
   ]
  },
  {
   "cell_type": "code",
   "execution_count": 16,
   "metadata": {},
   "outputs": [],
   "source": [
    "model.add(Dense(units = 1, activation = \"sigmoid\"))"
   ]
  },
  {
   "cell_type": "code",
   "execution_count": 17,
   "metadata": {},
   "outputs": [],
   "source": [
    "model.compile(optimizer = \"adam\", loss = \"binary_crossentropy\", metrics=[\"accuracy\"])"
   ]
  },
  {
   "cell_type": "code",
   "execution_count": 18,
   "metadata": {
    "scrolled": true
   },
   "outputs": [
    {
     "name": "stderr",
     "output_type": "stream",
     "text": [
      "C:\\Users\\GURU\\anaconda3\\lib\\site-packages\\tensorflow\\python\\keras\\engine\\training.py:1844: UserWarning: `Model.fit_generator` is deprecated and will be removed in a future version. Please use `Model.fit`, which supports generators.\n",
      "  warnings.warn('`Model.fit_generator` is deprecated and '\n"
     ]
    },
    {
     "name": "stdout",
     "output_type": "stream",
     "text": [
      "Epoch 1/20\n",
      "690/690 [==============================] - 50s 70ms/step - loss: 0.5166 - accuracy: 0.7474 - val_loss: 0.4963 - val_accuracy: 0.8244\n",
      "Epoch 2/20\n",
      "690/690 [==============================] - 42s 62ms/step - loss: 0.3855 - accuracy: 0.8375 - val_loss: 0.4698 - val_accuracy: 0.8294\n",
      "Epoch 3/20\n",
      "690/690 [==============================] - 39s 57ms/step - loss: 0.3816 - accuracy: 0.8333 - val_loss: 0.5289 - val_accuracy: 0.7773\n",
      "Epoch 4/20\n",
      "690/690 [==============================] - 40s 57ms/step - loss: 0.3610 - accuracy: 0.8432 - val_loss: 0.4257 - val_accuracy: 0.8477\n",
      "Epoch 5/20\n",
      "690/690 [==============================] - 45s 65ms/step - loss: 0.3566 - accuracy: 0.8421 - val_loss: 0.4435 - val_accuracy: 0.8313\n",
      "Epoch 6/20\n",
      "690/690 [==============================] - 45s 65ms/step - loss: 0.3379 - accuracy: 0.8536 - val_loss: 0.5004 - val_accuracy: 0.7892\n",
      "Epoch 7/20\n",
      "690/690 [==============================] - 43s 62ms/step - loss: 0.3440 - accuracy: 0.8464 - val_loss: 0.4604 - val_accuracy: 0.8140\n",
      "Epoch 8/20\n",
      "690/690 [==============================] - 42s 61ms/step - loss: 0.3274 - accuracy: 0.8568 - val_loss: 0.4467 - val_accuracy: 0.8189\n",
      "Epoch 9/20\n",
      "690/690 [==============================] - 43s 62ms/step - loss: 0.3178 - accuracy: 0.8632 - val_loss: 0.4903 - val_accuracy: 0.7961\n",
      "Epoch 10/20\n",
      "690/690 [==============================] - 42s 61ms/step - loss: 0.3122 - accuracy: 0.8676 - val_loss: 0.4985 - val_accuracy: 0.7738\n",
      "Epoch 11/20\n",
      "690/690 [==============================] - 43s 62ms/step - loss: 0.3117 - accuracy: 0.8666 - val_loss: 0.4525 - val_accuracy: 0.8249\n",
      "Epoch 12/20\n",
      "690/690 [==============================] - 44s 63ms/step - loss: 0.3119 - accuracy: 0.8620 - val_loss: 0.4414 - val_accuracy: 0.8214\n",
      "Epoch 13/20\n",
      "690/690 [==============================] - 43s 63ms/step - loss: 0.3101 - accuracy: 0.8688 - val_loss: 0.4631 - val_accuracy: 0.8413\n",
      "Epoch 14/20\n",
      "690/690 [==============================] - 43s 62ms/step - loss: 0.2853 - accuracy: 0.8761 - val_loss: 0.4514 - val_accuracy: 0.8199\n",
      "Epoch 15/20\n",
      "690/690 [==============================] - 43s 62ms/step - loss: 0.2993 - accuracy: 0.8671 - val_loss: 0.4494 - val_accuracy: 0.8041\n",
      "Epoch 16/20\n",
      "690/690 [==============================] - 39s 56ms/step - loss: 0.2873 - accuracy: 0.8719 - val_loss: 0.5798 - val_accuracy: 0.7475\n",
      "Epoch 17/20\n",
      "690/690 [==============================] - 44s 64ms/step - loss: 0.2773 - accuracy: 0.8892 - val_loss: 0.4409 - val_accuracy: 0.8299\n",
      "Epoch 18/20\n",
      "690/690 [==============================] - 43s 62ms/step - loss: 0.2742 - accuracy: 0.8843 - val_loss: 0.4556 - val_accuracy: 0.8145\n",
      "Epoch 19/20\n",
      "690/690 [==============================] - 41s 60ms/step - loss: 0.2702 - accuracy: 0.8819 - val_loss: 0.4369 - val_accuracy: 0.8279\n",
      "Epoch 20/20\n",
      "690/690 [==============================] - 45s 66ms/step - loss: 0.2682 - accuracy: 0.8823 - val_loss: 0.4802 - val_accuracy: 0.7937\n"
     ]
    },
    {
     "data": {
      "text/plain": [
       "<tensorflow.python.keras.callbacks.History at 0x20639da1df0>"
      ]
     },
     "execution_count": 18,
     "metadata": {},
     "output_type": "execute_result"
    }
   ],
   "source": [
    "model.fit_generator(x_train, steps_per_epoch = x_train.samples//batch_size,epochs = 20,validation_data = x_test,validation_steps = x_test.samples//batch_size)"
   ]
  },
  {
   "cell_type": "code",
   "execution_count": 19,
   "metadata": {},
   "outputs": [],
   "source": [
    "model.save(\"breastcancer.h5\")"
   ]
  },
  {
   "cell_type": "code",
   "execution_count": null,
   "metadata": {},
   "outputs": [],
   "source": []
  }
 ],
 "metadata": {
  "kernelspec": {
   "display_name": "Python 3",
   "language": "python",
   "name": "python3"
  },
  "language_info": {
   "codemirror_mode": {
    "name": "ipython",
    "version": 3
   },
   "file_extension": ".py",
   "mimetype": "text/x-python",
   "name": "python",
   "nbconvert_exporter": "python",
   "pygments_lexer": "ipython3",
   "version": "3.8.5"
  }
 },
 "nbformat": 4,
 "nbformat_minor": 4
}
