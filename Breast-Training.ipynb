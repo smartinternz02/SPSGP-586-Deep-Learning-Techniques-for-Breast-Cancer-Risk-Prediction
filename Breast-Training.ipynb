{
 "cells": [
  {
   "cell_type": "code",
   "execution_count": 65,
   "metadata": {},
   "outputs": [],
   "source": [
    "from keras.preprocessing.image import ImageDataGenerator\n",
    "from keras.models import Sequential\n",
    "from keras.layers import Dense\n",
    "from keras.layers import Convolution2D\n",
    "from keras.layers import MaxPooling2D\n",
    "from keras.layers import Flatten"
   ]
  },
  {
   "cell_type": "code",
   "execution_count": 66,
   "metadata": {},
   "outputs": [],
   "source": [
    "train_datagen = ImageDataGenerator(rescale = 1./255, shear_range = 0.2, zoom_range = 0.2, horizontal_flip = True)\n",
    "test_datagen = ImageDataGenerator(rescale = 1./255)"
   ]
  },
  {
   "cell_type": "code",
   "execution_count": 70,
   "metadata": {},
   "outputs": [
    {
     "name": "stdout",
     "output_type": "stream",
     "text": [
      "Found 11055 images belonging to 2 classes.\n",
      "Found 2022 images belonging to 2 classes.\n"
     ]
    }
   ],
   "source": [
    "x_train = train_datagen.flow_from_directory(r\"C:\\Users\\GURU\\Desktop\\data\\dset\\train\",target_size = (32,32), batch_size = batch_size, class_mode = \"binary\")\n",
    "x_test = test_datagen.flow_from_directory(r\"C:\\Users\\GURU\\Desktop\\data\\dset\\test\",target_size = (32,32), batch_size = batch_size, class_mode = \"binary\")"
   ]
  },
  {
   "cell_type": "code",
   "execution_count": 68,
   "metadata": {},
   "outputs": [
    {
     "data": {
      "text/plain": [
       "{'benign': 0, 'malignant': 1}"
      ]
     },
     "execution_count": 68,
     "metadata": {},
     "output_type": "execute_result"
    }
   ],
   "source": [
    "x_train.class_indices"
   ]
  },
  {
   "cell_type": "code",
   "execution_count": 69,
   "metadata": {},
   "outputs": [],
   "source": [
    "batch_size = 16"
   ]
  },
  {
   "cell_type": "code",
   "execution_count": 71,
   "metadata": {},
   "outputs": [],
   "source": [
    "model = Sequential()"
   ]
  },
  {
   "cell_type": "code",
   "execution_count": 72,
   "metadata": {},
   "outputs": [],
   "source": [
    "model.add(Convolution2D(32,(3,3),input_shape = (32,32,3),padding = 'same',activation = 'relu')) "
   ]
  },
  {
   "cell_type": "code",
   "execution_count": 73,
   "metadata": {},
   "outputs": [],
   "source": [
    "model.add(MaxPooling2D(pool_size = (2,2)))"
   ]
  },
  {
   "cell_type": "code",
   "execution_count": 74,
   "metadata": {},
   "outputs": [],
   "source": [
    "model.add(Convolution2D(64,(3,3),padding = 'same',activation = 'relu')) "
   ]
  },
  {
   "cell_type": "code",
   "execution_count": 75,
   "metadata": {},
   "outputs": [],
   "source": [
    "model.add(MaxPooling2D(pool_size = (2,2)))"
   ]
  },
  {
   "cell_type": "code",
   "execution_count": 76,
   "metadata": {},
   "outputs": [],
   "source": [
    "model.add(Convolution2D(128,(3,3),padding = 'same',activation = 'relu')) \n",
    "model.add(MaxPooling2D(pool_size = (2,2)))"
   ]
  },
  {
   "cell_type": "code",
   "execution_count": 77,
   "metadata": {},
   "outputs": [],
   "source": [
    "model.add(Flatten())"
   ]
  },
  {
   "cell_type": "code",
   "execution_count": 78,
   "metadata": {},
   "outputs": [],
   "source": [
    "model.add(Dense(units = 128,activation = \"relu\"))"
   ]
  },
  {
   "cell_type": "code",
   "execution_count": 79,
   "metadata": {},
   "outputs": [],
   "source": [
    "model.add(Dense(units = 1, activation = \"sigmoid\"))"
   ]
  },
  {
   "cell_type": "code",
   "execution_count": 80,
   "metadata": {},
   "outputs": [],
   "source": [
    "model.compile(optimizer = \"adam\", loss = \"binary_crossentropy\", metrics=[\"accuracy\"])"
   ]
  },
  {
   "cell_type": "code",
   "execution_count": 81,
   "metadata": {
    "scrolled": true
   },
   "outputs": [
    {
     "name": "stdout",
     "output_type": "stream",
     "text": [
      "Epoch 1/10\n",
      "690/690 [==============================] - 30s 42ms/step - loss: 0.5437 - accuracy: 0.7128 - val_loss: 0.4615 - val_accuracy: 0.8383\n",
      "Epoch 2/10\n",
      "690/690 [==============================] - 28s 40ms/step - loss: 0.4090 - accuracy: 0.8238 - val_loss: 0.4299 - val_accuracy: 0.8393\n",
      "Epoch 3/10\n",
      "690/690 [==============================] - 28s 40ms/step - loss: 0.3734 - accuracy: 0.8360 - val_loss: 0.4343 - val_accuracy: 0.8433\n",
      "Epoch 4/10\n",
      "690/690 [==============================] - 28s 41ms/step - loss: 0.3703 - accuracy: 0.8434 - val_loss: 0.4646 - val_accuracy: 0.8378\n",
      "Epoch 5/10\n",
      "690/690 [==============================] - 30s 44ms/step - loss: 0.3488 - accuracy: 0.8500 - val_loss: 0.4970 - val_accuracy: 0.7907\n",
      "Epoch 6/10\n",
      "690/690 [==============================] - 30s 44ms/step - loss: 0.3410 - accuracy: 0.8562 - val_loss: 0.4507 - val_accuracy: 0.8264\n",
      "Epoch 7/10\n",
      "690/690 [==============================] - 30s 43ms/step - loss: 0.3448 - accuracy: 0.8515 - val_loss: 0.4483 - val_accuracy: 0.8318\n",
      "Epoch 8/10\n",
      "690/690 [==============================] - 30s 44ms/step - loss: 0.3281 - accuracy: 0.8605 - val_loss: 0.4237 - val_accuracy: 0.8309\n",
      "Epoch 9/10\n",
      "690/690 [==============================] - 29s 42ms/step - loss: 0.3124 - accuracy: 0.8611 - val_loss: 0.4246 - val_accuracy: 0.8204\n",
      "Epoch 10/10\n",
      "690/690 [==============================] - 29s 42ms/step - loss: 0.3143 - accuracy: 0.8662 - val_loss: 0.4314 - val_accuracy: 0.8289\n"
     ]
    },
    {
     "data": {
      "text/plain": [
       "<tensorflow.python.keras.callbacks.History at 0x209b1096820>"
      ]
     },
     "execution_count": 81,
     "metadata": {},
     "output_type": "execute_result"
    }
   ],
   "source": [
    "model.fit_generator(x_train, steps_per_epoch = x_train.samples//batch_size,epochs = 10,validation_data = x_test,validation_steps = x_test.samples//batch_size)"
   ]
  },
  {
   "cell_type": "code",
   "execution_count": 82,
   "metadata": {},
   "outputs": [],
   "source": [
    "model.save(\"breastcancer.h5\")"
   ]
  },
  {
   "cell_type": "code",
   "execution_count": null,
   "metadata": {},
   "outputs": [],
   "source": []
  }
 ],
 "metadata": {
  "kernelspec": {
   "display_name": "Python 3",
   "language": "python",
   "name": "python3"
  },
  "language_info": {
   "codemirror_mode": {
    "name": "ipython",
    "version": 3
   },
   "file_extension": ".py",
   "mimetype": "text/x-python",
   "name": "python",
   "nbconvert_exporter": "python",
   "pygments_lexer": "ipython3",
   "version": "3.8.5"
  }
 },
 "nbformat": 4,
 "nbformat_minor": 4
}
